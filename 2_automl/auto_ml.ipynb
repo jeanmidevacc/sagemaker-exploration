{
 "cells": [
  {
   "cell_type": "code",
   "execution_count": 1,
   "metadata": {},
   "outputs": [],
   "source": [
    "import os\n",
    "from datetime import datetime\n",
    "import ast\n",
    "import random\n",
    "\n",
    "import pandas as pd\n",
    "\n",
    "import boto3\n",
    "import sagemaker\n",
    "from sagemaker import get_execution_role\n",
    "from sagemaker.amazon.amazon_estimator import get_image_uri"
   ]
  },
  {
   "cell_type": "code",
   "execution_count": 2,
   "metadata": {},
   "outputs": [],
   "source": [
    "# Set some region and role for the execution of the jobs\n",
    "region = boto3.Session().region_name\n",
    "\n",
    "session = sagemaker.Session()\n",
    "bucket = session.default_bucket()\n",
    "prefix = 'sagemaker/autopilot-dm'\n",
    "\n",
    "role = get_execution_role()\n",
    "\n",
    "sm = boto3.Session().client(service_name='sagemaker',region_name=region)"
   ]
  },
  {
   "cell_type": "code",
   "execution_count": 3,
   "metadata": {},
   "outputs": [],
   "source": [
    "dfp_cards = pd.read_csv(f'{os.environ[\"AWS_SAGEMAKER_S3_LOCATION\"]}/data/V1_cards.csv')"
   ]
  },
  {
   "cell_type": "code",
   "execution_count": null,
   "metadata": {},
   "outputs": [],
   "source": [
    "# cardids_for_feature = dfp_cards['cardid'].unique().tolist()\n",
    "# print('Length of the list:', len(cardids_for_feature))"
   ]
  },
  {
   "cell_type": "code",
   "execution_count": 4,
   "metadata": {},
   "outputs": [
    {
     "data": {
      "text/html": [
       "<div>\n",
       "<style scoped>\n",
       "    .dataframe tbody tr th:only-of-type {\n",
       "        vertical-align: middle;\n",
       "    }\n",
       "\n",
       "    .dataframe tbody tr th {\n",
       "        vertical-align: top;\n",
       "    }\n",
       "\n",
       "    .dataframe thead th {\n",
       "        text-align: right;\n",
       "    }\n",
       "</style>\n",
       "<table border=\"1\" class=\"dataframe\">\n",
       "  <thead>\n",
       "    <tr style=\"text-align: right;\">\n",
       "      <th></th>\n",
       "      <th>hero</th>\n",
       "      <th>cards</th>\n",
       "      <th>count_minions</th>\n",
       "      <th>count_spells</th>\n",
       "      <th>count_weapons</th>\n",
       "      <th>archetype</th>\n",
       "    </tr>\n",
       "  </thead>\n",
       "  <tbody>\n",
       "    <tr>\n",
       "      <th>0</th>\n",
       "      <td>paladin</td>\n",
       "      <td>[29, 29, 103, 103, 422, 422, 473, 473, 581, 67...</td>\n",
       "      <td>17.0</td>\n",
       "      <td>8.0</td>\n",
       "      <td>5.0</td>\n",
       "      <td>Aggro Paladin</td>\n",
       "    </tr>\n",
       "    <tr>\n",
       "      <th>1</th>\n",
       "      <td>paladin</td>\n",
       "      <td>[23, 23, 189, 189, 260, 260, 383, 383, 391, 33...</td>\n",
       "      <td>18.0</td>\n",
       "      <td>10.0</td>\n",
       "      <td>2.0</td>\n",
       "      <td>Midrange Paladin</td>\n",
       "    </tr>\n",
       "    <tr>\n",
       "      <th>2</th>\n",
       "      <td>hunter</td>\n",
       "      <td>[22, 22, 99, 99, 163, 163, 239, 344, 344, 363,...</td>\n",
       "      <td>0.0</td>\n",
       "      <td>24.0</td>\n",
       "      <td>5.0</td>\n",
       "      <td>Spell Hunter</td>\n",
       "    </tr>\n",
       "    <tr>\n",
       "      <th>3</th>\n",
       "      <td>druid</td>\n",
       "      <td>[131, 131, 282, 282, 548, 548, 620, 620, 633, ...</td>\n",
       "      <td>9.0</td>\n",
       "      <td>20.0</td>\n",
       "      <td>0.0</td>\n",
       "      <td>Jade Lotus Druid</td>\n",
       "    </tr>\n",
       "    <tr>\n",
       "      <th>4</th>\n",
       "      <td>rogue</td>\n",
       "      <td>[3, 92, 92, 103, 103, 286, 286, 324, 324, 382,...</td>\n",
       "      <td>23.0</td>\n",
       "      <td>7.0</td>\n",
       "      <td>0.0</td>\n",
       "      <td>Tempo Rogue</td>\n",
       "    </tr>\n",
       "  </tbody>\n",
       "</table>\n",
       "</div>"
      ],
      "text/plain": [
       "      hero                                              cards  count_minions  \\\n",
       "0  paladin  [29, 29, 103, 103, 422, 422, 473, 473, 581, 67...           17.0   \n",
       "1  paladin  [23, 23, 189, 189, 260, 260, 383, 383, 391, 33...           18.0   \n",
       "2   hunter  [22, 22, 99, 99, 163, 163, 239, 344, 344, 363,...            0.0   \n",
       "3    druid  [131, 131, 282, 282, 548, 548, 620, 620, 633, ...            9.0   \n",
       "4    rogue  [3, 92, 92, 103, 103, 286, 286, 324, 324, 382,...           23.0   \n",
       "\n",
       "   count_spells  count_weapons         archetype  \n",
       "0           8.0            5.0     Aggro Paladin  \n",
       "1          10.0            2.0  Midrange Paladin  \n",
       "2          24.0            5.0      Spell Hunter  \n",
       "3          20.0            0.0  Jade Lotus Druid  \n",
       "4           7.0            0.0       Tempo Rogue  "
      ]
     },
     "execution_count": 4,
     "metadata": {},
     "output_type": "execute_result"
    }
   ],
   "source": [
    "dfp_data_ml = pd.read_csv(f'{os.environ[\"AWS_SAGEMAKER_S3_LOCATION\"]}/data/dataset_ml.csv')\n",
    "#dfp_data_ml['cards'] = dfp_data_ml['cards'].apply(lambda cards:ast.literal_eval(cards))\n",
    "dfp_data_ml.head()"
   ]
  },
  {
   "cell_type": "code",
   "execution_count": 10,
   "metadata": {},
   "outputs": [
    {
     "name": "stdout",
     "output_type": "stream",
     "text": [
      "CPU times: user 70.9 ms, sys: 0 ns, total: 70.9 ms\n",
      "Wall time: 69.2 ms\n"
     ]
    },
    {
     "data": {
      "text/html": [
       "<div>\n",
       "<style scoped>\n",
       "    .dataframe tbody tr th:only-of-type {\n",
       "        vertical-align: middle;\n",
       "    }\n",
       "\n",
       "    .dataframe tbody tr th {\n",
       "        vertical-align: top;\n",
       "    }\n",
       "\n",
       "    .dataframe thead th {\n",
       "        text-align: right;\n",
       "    }\n",
       "</style>\n",
       "<table border=\"1\" class=\"dataframe\">\n",
       "  <thead>\n",
       "    <tr style=\"text-align: right;\">\n",
       "      <th></th>\n",
       "      <th>hero</th>\n",
       "      <th>count_minions</th>\n",
       "      <th>count_spells</th>\n",
       "      <th>count_weapons</th>\n",
       "      <th>archetype</th>\n",
       "    </tr>\n",
       "  </thead>\n",
       "  <tbody>\n",
       "    <tr>\n",
       "      <th>23142</th>\n",
       "      <td>warrior</td>\n",
       "      <td>21.0</td>\n",
       "      <td>7.0</td>\n",
       "      <td>2.0</td>\n",
       "      <td>Taunt Warrior</td>\n",
       "    </tr>\n",
       "    <tr>\n",
       "      <th>74977</th>\n",
       "      <td>shaman</td>\n",
       "      <td>16.0</td>\n",
       "      <td>14.0</td>\n",
       "      <td>0.0</td>\n",
       "      <td>Shudderwock Shaman</td>\n",
       "    </tr>\n",
       "    <tr>\n",
       "      <th>217359</th>\n",
       "      <td>druid</td>\n",
       "      <td>20.0</td>\n",
       "      <td>10.0</td>\n",
       "      <td>0.0</td>\n",
       "      <td>Beast Druid</td>\n",
       "    </tr>\n",
       "    <tr>\n",
       "      <th>153044</th>\n",
       "      <td>hunter</td>\n",
       "      <td>8.0</td>\n",
       "      <td>20.0</td>\n",
       "      <td>2.0</td>\n",
       "      <td>Reno Hunter</td>\n",
       "    </tr>\n",
       "    <tr>\n",
       "      <th>87045</th>\n",
       "      <td>mage</td>\n",
       "      <td>11.0</td>\n",
       "      <td>19.0</td>\n",
       "      <td>0.0</td>\n",
       "      <td>Freeze Mage</td>\n",
       "    </tr>\n",
       "  </tbody>\n",
       "</table>\n",
       "</div>"
      ],
      "text/plain": [
       "           hero  count_minions  count_spells  count_weapons  \\\n",
       "23142   warrior           21.0           7.0            2.0   \n",
       "74977    shaman           16.0          14.0            0.0   \n",
       "217359    druid           20.0          10.0            0.0   \n",
       "153044   hunter            8.0          20.0            2.0   \n",
       "87045      mage           11.0          19.0            0.0   \n",
       "\n",
       "                 archetype  \n",
       "23142        Taunt Warrior  \n",
       "74977   Shudderwock Shaman  \n",
       "217359         Beast Druid  \n",
       "153044         Reno Hunter  \n",
       "87045          Freeze Mage  "
      ]
     },
     "execution_count": 10,
     "metadata": {},
     "output_type": "execute_result"
    }
   ],
   "source": [
    "%%time\n",
    "dfp_data_automl = dfp_data_ml.copy().sample(frac=1).head(1000)\n",
    "\n",
    "#for cardid in [29,422,163]:\n",
    "# for cardid in random.choices(cardids_for_feature, k=100):\n",
    "#     dfp_data_automl[f'cardfeature_count-{cardid}'] = dfp_data_automl['cards'].apply(lambda cards: cards.count(cardid))\n",
    "    \n",
    "dfp_data_automl.drop('cards', axis=1, inplace=True)\n",
    "dfp_data_automl.sample(frac=1).head()"
   ]
  },
  {
   "cell_type": "code",
   "execution_count": 11,
   "metadata": {},
   "outputs": [],
   "source": [
    "dfp_train_data = dfp_data_automl.sample(frac=0.8,random_state=200)\n",
    "dfp_test_data = dfp_data_automl.drop(dfp_train_data.index)\n",
    "dfp_test_data_no_target = dfp_data_automl.drop(columns=['archetype'])"
   ]
  },
  {
   "cell_type": "code",
   "execution_count": 12,
   "metadata": {},
   "outputs": [
    {
     "name": "stdout",
     "output_type": "stream",
     "text": [
      "Train data uploaded to: s3://sagemaker-us-east-1-574603769924/sagemaker/autopilot-dm/train/train_data.csv\n",
      "Test data uploaded to: s3://sagemaker-us-east-1-574603769924/sagemaker/autopilot-dm/test/test_data.csv\n"
     ]
    }
   ],
   "source": [
    "train_file = 'train_data.csv';\n",
    "dfp_train_data.to_csv(train_file, index=False, header=True)\n",
    "train_data_s3_path = session.upload_data(path=train_file, key_prefix=prefix + \"/train\")\n",
    "print('Train data uploaded to: ' + train_data_s3_path)\n",
    "\n",
    "test_file = 'test_data.csv';\n",
    "dfp_test_data_no_target.to_csv(test_file, index=False, header=False)\n",
    "test_data_s3_path = session.upload_data(path=test_file, key_prefix=prefix + \"/test\")\n",
    "print('Test data uploaded to: ' + test_data_s3_path)"
   ]
  },
  {
   "cell_type": "code",
   "execution_count": 13,
   "metadata": {},
   "outputs": [],
   "source": [
    "input_data_config = [{\n",
    "      'DataSource': {\n",
    "        'S3DataSource': {\n",
    "          'S3DataType': 'S3Prefix',\n",
    "          'S3Uri': 's3://{}/{}/train'.format(bucket,prefix)\n",
    "        }\n",
    "      },\n",
    "      'TargetAttributeName': 'archetype'\n",
    "    }\n",
    "  ]\n",
    "\n",
    "output_data_config = {\n",
    "    'S3OutputPath': 's3://{}/{}/output'.format(bucket,prefix)\n",
    "}"
   ]
  },
  {
   "cell_type": "code",
   "execution_count": 14,
   "metadata": {},
   "outputs": [
    {
     "name": "stdout",
     "output_type": "stream",
     "text": [
      "AutoMLJobName: automl-hearthpwn-13-10-53-22\n"
     ]
    },
    {
     "data": {
      "text/plain": [
       "{'AutoMLJobArn': 'arn:aws:sagemaker:us-east-1:574603769924:automl-job/automl-hearthpwn-13-10-53-22',\n",
       " 'ResponseMetadata': {'RequestId': 'f59d20a8-2cbe-40b5-9cbd-ba4cf4b382d9',\n",
       "  'HTTPStatusCode': 200,\n",
       "  'HTTPHeaders': {'x-amzn-requestid': 'f59d20a8-2cbe-40b5-9cbd-ba4cf4b382d9',\n",
       "   'content-type': 'application/x-amz-json-1.1',\n",
       "   'content-length': '99',\n",
       "   'date': 'Tue, 13 Oct 2020 10:53:23 GMT'},\n",
       "  'RetryAttempts': 0}}"
      ]
     },
     "execution_count": 14,
     "metadata": {},
     "output_type": "execute_result"
    }
   ],
   "source": [
    "from time import gmtime, strftime, sleep\n",
    "timestamp_suffix = strftime('%d-%H-%M-%S', gmtime())\n",
    "\n",
    "auto_ml_job_name = 'automl-hearthpwn-' + timestamp_suffix\n",
    "print('AutoMLJobName: ' + auto_ml_job_name)\n",
    "\n",
    "sm.create_auto_ml_job(AutoMLJobName=auto_ml_job_name,\n",
    "                      InputDataConfig=input_data_config,\n",
    "                      OutputDataConfig=output_data_config,\n",
    "                      RoleArn=role)"
   ]
  },
  {
   "cell_type": "markdown",
   "metadata": {},
   "source": [
    "## Analyse the magic"
   ]
  },
  {
   "cell_type": "code",
   "execution_count": 15,
   "metadata": {},
   "outputs": [
    {
     "data": {
      "text/plain": [
       "{'AutoMLJobSummaries': [{'AutoMLJobName': 'automl-hearthpwn-13-10-53-22',\n",
       "   'AutoMLJobArn': 'arn:aws:sagemaker:us-east-1:574603769924:automl-job/automl-hearthpwn-13-10-53-22',\n",
       "   'AutoMLJobStatus': 'InProgress',\n",
       "   'AutoMLJobSecondaryStatus': 'AnalyzingData',\n",
       "   'CreationTime': datetime.datetime(2020, 10, 13, 10, 53, 22, 954000, tzinfo=tzlocal()),\n",
       "   'LastModifiedTime': datetime.datetime(2020, 10, 13, 10, 53, 26, 223000, tzinfo=tzlocal())},\n",
       "  {'AutoMLJobName': 'automl-hearthpwn-12-23-57-50',\n",
       "   'AutoMLJobArn': 'arn:aws:sagemaker:us-east-1:574603769924:automl-job/automl-hearthpwn-12-23-57-50',\n",
       "   'AutoMLJobStatus': 'Stopped',\n",
       "   'AutoMLJobSecondaryStatus': 'Stopped',\n",
       "   'CreationTime': datetime.datetime(2020, 10, 12, 23, 57, 50, 756000, tzinfo=tzlocal()),\n",
       "   'EndTime': datetime.datetime(2020, 10, 13, 10, 9, 47, 722000, tzinfo=tzlocal()),\n",
       "   'LastModifiedTime': datetime.datetime(2020, 10, 13, 10, 9, 47, 753000, tzinfo=tzlocal())},\n",
       "  {'AutoMLJobName': 'automl-banking-12-23-57-36',\n",
       "   'AutoMLJobArn': 'arn:aws:sagemaker:us-east-1:574603769924:automl-job/automl-banking-12-23-57-36',\n",
       "   'AutoMLJobStatus': 'Stopped',\n",
       "   'AutoMLJobSecondaryStatus': 'Stopped',\n",
       "   'CreationTime': datetime.datetime(2020, 10, 12, 23, 57, 36, 931000, tzinfo=tzlocal()),\n",
       "   'EndTime': datetime.datetime(2020, 10, 13, 0, 7, 36, 164000, tzinfo=tzlocal()),\n",
       "   'LastModifiedTime': datetime.datetime(2020, 10, 13, 0, 7, 36, 198000, tzinfo=tzlocal())}],\n",
       " 'ResponseMetadata': {'RequestId': 'b2e9db4c-940a-4b75-a6a3-faef3d64133b',\n",
       "  'HTTPStatusCode': 200,\n",
       "  'HTTPHeaders': {'x-amzn-requestid': 'b2e9db4c-940a-4b75-a6a3-faef3d64133b',\n",
       "   'content-type': 'application/x-amz-json-1.1',\n",
       "   'content-length': '923',\n",
       "   'date': 'Tue, 13 Oct 2020 10:53:31 GMT'},\n",
       "  'RetryAttempts': 0}}"
      ]
     },
     "execution_count": 15,
     "metadata": {},
     "output_type": "execute_result"
    }
   ],
   "source": [
    "list_response = sm.list_auto_ml_jobs()\n",
    "list_response"
   ]
  },
  {
   "cell_type": "code",
   "execution_count": 16,
   "metadata": {},
   "outputs": [],
   "source": [
    "auto_ml_job_name = 'automl-hearthpwn-13-10-53-22'"
   ]
  },
  {
   "cell_type": "code",
   "execution_count": null,
   "metadata": {},
   "outputs": [],
   "source": [
    "print('JobStatus - Secondary Status')\n",
    "print('------------------------------')\n",
    "\n",
    "\n",
    "describe_response = sm.describe_auto_ml_job(AutoMLJobName=auto_ml_job_name)\n",
    "print (describe_response['AutoMLJobStatus'] + \" - \" + describe_response['AutoMLJobSecondaryStatus'])\n",
    "job_run_status = describe_response['AutoMLJobStatus']\n",
    "    \n",
    "while job_run_status not in ('Failed', 'Completed', 'Stopped'):\n",
    "    describe_response = sm.describe_auto_ml_job(AutoMLJobName=auto_ml_job_name)\n",
    "    job_run_status = describe_response['AutoMLJobStatus']\n",
    "    \n",
    "    print (describe_response['AutoMLJobStatus'] + \" - \" + describe_response['AutoMLJobSecondaryStatus'])\n",
    "    sleep(30)"
   ]
  },
  {
   "cell_type": "code",
   "execution_count": null,
   "metadata": {},
   "outputs": [],
   "source": [
    "best_candidate = sm.describe_auto_ml_job(AutoMLJobName=auto_ml_job_name)['BestCandidate']\n",
    "best_candidate_name = best_candidate['CandidateName']\n",
    "print(best_candidate)\n",
    "print('\\n')\n",
    "print(\"CandidateName: \" + best_candidate_name)\n",
    "print(\"FinalAutoMLJobObjectiveMetricName: \" + best_candidate['FinalAutoMLJobObjectiveMetric']['MetricName'])\n",
    "print(\"FinalAutoMLJobObjectiveMetricValue: \" + str(best_candidate['FinalAutoMLJobObjectiveMetric']['Value']))"
   ]
  },
  {
   "cell_type": "code",
   "execution_count": null,
   "metadata": {},
   "outputs": [],
   "source": []
  }
 ],
 "metadata": {
  "kernelspec": {
   "display_name": "conda_python3",
   "language": "python",
   "name": "conda_python3"
  },
  "language_info": {
   "codemirror_mode": {
    "name": "ipython",
    "version": 3
   },
   "file_extension": ".py",
   "mimetype": "text/x-python",
   "name": "python",
   "nbconvert_exporter": "python",
   "pygments_lexer": "ipython3",
   "version": "3.6.10"
  }
 },
 "nbformat": 4,
 "nbformat_minor": 4
}
